{
 "cells": [
  {
   "cell_type": "markdown",
   "id": "abroad-outside",
   "metadata": {},
   "source": [
    "## Basic statements"
   ]
  },
  {
   "cell_type": "code",
   "execution_count": 1,
   "id": "final-vaccine",
   "metadata": {},
   "outputs": [
    {
     "name": "stdout",
     "output_type": "stream",
     "text": [
      "in range\n"
     ]
    }
   ],
   "source": [
    "a = 5\n",
    "if 1 < a <= 6:\n",
    "    print('in range')"
   ]
  },
  {
   "cell_type": "code",
   "execution_count": 3,
   "id": "circular-shark",
   "metadata": {},
   "outputs": [
    {
     "name": "stdout",
     "output_type": "stream",
     "text": [
      "double conditions\n"
     ]
    }
   ],
   "source": [
    "b = 7\n",
    "if (a < 10 and\n",
    "    b > -2):\n",
    "    print('double conditions')"
   ]
  },
  {
   "cell_type": "markdown",
   "id": "subsequent-chester",
   "metadata": {},
   "source": [
    "## Loop control"
   ]
  },
  {
   "cell_type": "code",
   "execution_count": 20,
   "id": "pursuant-atlas",
   "metadata": {},
   "outputs": [
    {
     "name": "stdout",
     "output_type": "stream",
     "text": [
      "9\n",
      "8\n",
      "7\n",
      "2\n"
     ]
    }
   ],
   "source": [
    "for x in reversed(range(10)):\n",
    "    if x == 9:\n",
    "        pass     # do nothing\n",
    "    if 2 < x < 7:\n",
    "        continue # go to the next iteration\n",
    "    if x < 2:\n",
    "        break    # terminate the loop\n",
    "    print(x)"
   ]
  },
  {
   "cell_type": "markdown",
   "id": "dominican-chemistry",
   "metadata": {},
   "source": [
    "## Ternary expressions"
   ]
  },
  {
   "cell_type": "code",
   "execution_count": 14,
   "id": "boring-colors",
   "metadata": {},
   "outputs": [
    {
     "data": {
      "text/plain": [
       "'elephant'"
      ]
     },
     "execution_count": 14,
     "metadata": {},
     "output_type": "execute_result"
    }
   ],
   "source": [
    "q = 'elephant' if x < 8 else 42\n",
    "q"
   ]
  },
  {
   "cell_type": "markdown",
   "id": "suffering-appendix",
   "metadata": {},
   "source": [
    "## Looping through the lists"
   ]
  },
  {
   "cell_type": "code",
   "execution_count": 17,
   "id": "adjacent-beast",
   "metadata": {},
   "outputs": [
    {
     "name": "stdout",
     "output_type": "stream",
     "text": [
      "0: one - 1\n",
      "1: two - 2\n",
      "2: three - 3\n"
     ]
    }
   ],
   "source": [
    "s1 = ['one', 'two', 'three']\n",
    "s2 = [1, 2, 3, 4, 5]\n",
    "\n",
    "for i, (e1, e2) in enumerate(zip(s1, s2)):\n",
    "    print('{0}: {1} - {2}'.format(i, e1, e2))"
   ]
  },
  {
   "cell_type": "code",
   "execution_count": null,
   "id": "athletic-squad",
   "metadata": {},
   "outputs": [],
   "source": []
  }
 ],
 "metadata": {
  "kernelspec": {
   "display_name": "Python 3",
   "language": "python",
   "name": "python3"
  },
  "language_info": {
   "codemirror_mode": {
    "name": "ipython",
    "version": 3
   },
   "file_extension": ".py",
   "mimetype": "text/x-python",
   "name": "python",
   "nbconvert_exporter": "python",
   "pygments_lexer": "ipython3",
   "version": "3.7.0"
  }
 },
 "nbformat": 4,
 "nbformat_minor": 5
}

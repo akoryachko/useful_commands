{
 "cells": [
  {
   "cell_type": "markdown",
   "id": "coordinated-transsexual",
   "metadata": {},
   "source": [
    "## Type check"
   ]
  },
  {
   "cell_type": "code",
   "execution_count": 1,
   "id": "chemical-lewis",
   "metadata": {},
   "outputs": [
    {
     "data": {
      "text/plain": [
       "int"
      ]
     },
     "execution_count": 1,
     "metadata": {},
     "output_type": "execute_result"
    }
   ],
   "source": [
    "a = 5\n",
    "type(a)"
   ]
  },
  {
   "cell_type": "code",
   "execution_count": 4,
   "id": "thermal-shower",
   "metadata": {},
   "outputs": [
    {
     "data": {
      "text/plain": [
       "False"
      ]
     },
     "execution_count": 4,
     "metadata": {},
     "output_type": "execute_result"
    }
   ],
   "source": [
    "isinstance(a, str)"
   ]
  },
  {
   "cell_type": "code",
   "execution_count": 5,
   "id": "split-diameter",
   "metadata": {},
   "outputs": [
    {
     "data": {
      "text/plain": [
       "True"
      ]
     },
     "execution_count": 5,
     "metadata": {},
     "output_type": "execute_result"
    }
   ],
   "source": [
    "isinstance(a, (str, int))"
   ]
  },
  {
   "cell_type": "markdown",
   "id": "southeast-developer",
   "metadata": {},
   "source": [
    "## Numbers"
   ]
  },
  {
   "cell_type": "code",
   "execution_count": 30,
   "id": "mechanical-forest",
   "metadata": {},
   "outputs": [],
   "source": [
    "a = 10; b = 3"
   ]
  },
  {
   "cell_type": "code",
   "execution_count": 34,
   "id": "antique-civilization",
   "metadata": {},
   "outputs": [
    {
     "data": {
      "text/plain": [
       "3.3333333333333335"
      ]
     },
     "execution_count": 34,
     "metadata": {},
     "output_type": "execute_result"
    }
   ],
   "source": [
    "a / b"
   ]
  },
  {
   "cell_type": "code",
   "execution_count": 31,
   "id": "challenging-alaska",
   "metadata": {},
   "outputs": [
    {
     "data": {
      "text/plain": [
       "3"
      ]
     },
     "execution_count": 31,
     "metadata": {},
     "output_type": "execute_result"
    }
   ],
   "source": [
    "a // b # division with no reminder"
   ]
  },
  {
   "cell_type": "code",
   "execution_count": 32,
   "id": "bright-calendar",
   "metadata": {},
   "outputs": [
    {
     "data": {
      "text/plain": [
       "1"
      ]
     },
     "execution_count": 32,
     "metadata": {},
     "output_type": "execute_result"
    }
   ],
   "source": [
    "a % b # modulo devision"
   ]
  },
  {
   "cell_type": "code",
   "execution_count": 33,
   "id": "trained-edinburgh",
   "metadata": {},
   "outputs": [
    {
     "data": {
      "text/plain": [
       "1000"
      ]
     },
     "execution_count": 33,
     "metadata": {},
     "output_type": "execute_result"
    }
   ],
   "source": [
    "a ** b # power"
   ]
  },
  {
   "cell_type": "code",
   "execution_count": 37,
   "id": "seven-gabriel",
   "metadata": {},
   "outputs": [
    {
     "data": {
      "text/plain": [
       "79.4"
      ]
     },
     "execution_count": 37,
     "metadata": {},
     "output_type": "execute_result"
    }
   ],
   "source": [
    "c = 7.94e-5\n",
    "c * 1e6"
   ]
  },
  {
   "cell_type": "markdown",
   "id": "subjective-parcel",
   "metadata": {},
   "source": [
    "## Strings"
   ]
  },
  {
   "cell_type": "code",
   "execution_count": 38,
   "id": "present-shore",
   "metadata": {},
   "outputs": [],
   "source": [
    "s = 'this is a string'"
   ]
  },
  {
   "cell_type": "code",
   "execution_count": 39,
   "id": "floral-schema",
   "metadata": {},
   "outputs": [
    {
     "data": {
      "text/plain": [
       "'this is a long string'"
      ]
     },
     "execution_count": 39,
     "metadata": {},
     "output_type": "execute_result"
    }
   ],
   "source": [
    "s.replace('string', 'long string')"
   ]
  },
  {
   "cell_type": "code",
   "execution_count": 81,
   "id": "planned-arlington",
   "metadata": {},
   "outputs": [
    {
     "data": {
      "text/plain": [
       "'str(a/b) result is: 3.3333333333333335'"
      ]
     },
     "execution_count": 81,
     "metadata": {},
     "output_type": "execute_result"
    }
   ],
   "source": [
    "('str(a/b) '\n",
    " 'result is: ' + str(a/b))"
   ]
  },
  {
   "cell_type": "markdown",
   "id": "charming-spank",
   "metadata": {},
   "source": [
    "### Template formating"
   ]
  },
  {
   "cell_type": "code",
   "execution_count": 68,
   "id": "demonstrated-luxembourg",
   "metadata": {},
   "outputs": [
    {
     "data": {
      "text/plain": [
       "'     4,155.5560 (4155.56)   Argentine Pesos    are worth US$3  '"
      ]
     },
     "execution_count": 68,
     "metadata": {},
     "output_type": "execute_result"
    }
   ],
   "source": [
    "cur = lambda: None\n",
    "cur.name = 'Argentine Pesos'\n",
    "cur.values = [1, 2, 3]\n",
    "\n",
    "template = '{0:>15,.4f} ({0:.2f}) {1.name:^20s} are worth US${1.values[2]:<3d}'\n",
    "template.format(4155.5560, cur)"
   ]
  },
  {
   "cell_type": "markdown",
   "id": "funky-silicon",
   "metadata": {},
   "source": [
    "## Dates times"
   ]
  },
  {
   "cell_type": "code",
   "execution_count": 82,
   "id": "going-illustration",
   "metadata": {},
   "outputs": [],
   "source": [
    " from datetime import datetime, date, time"
   ]
  },
  {
   "cell_type": "code",
   "execution_count": 84,
   "id": "gross-genetics",
   "metadata": {},
   "outputs": [],
   "source": [
    "dt = datetime.now()"
   ]
  },
  {
   "cell_type": "code",
   "execution_count": 89,
   "id": "acknowledged-water",
   "metadata": {},
   "outputs": [
    {
     "data": {
      "text/plain": [
       "datetime.date(2021, 2, 13)"
      ]
     },
     "execution_count": 89,
     "metadata": {},
     "output_type": "execute_result"
    }
   ],
   "source": [
    "dt.date()"
   ]
  },
  {
   "cell_type": "markdown",
   "id": "mental-illness",
   "metadata": {},
   "source": [
    "### Format date time"
   ]
  },
  {
   "cell_type": "code",
   "execution_count": 91,
   "id": "brazilian-integration",
   "metadata": {},
   "outputs": [
    {
     "data": {
      "text/plain": [
       "'02/13/2021 13:38'"
      ]
     },
     "execution_count": 91,
     "metadata": {},
     "output_type": "execute_result"
    }
   ],
   "source": [
    "dt.strftime('%m/%d/%Y %H:%M')"
   ]
  },
  {
   "cell_type": "markdown",
   "id": "sunrise-spending",
   "metadata": {},
   "source": [
    "### Convert to datetime"
   ]
  },
  {
   "cell_type": "code",
   "execution_count": 92,
   "id": "frank-knock",
   "metadata": {},
   "outputs": [
    {
     "data": {
      "text/plain": [
       "datetime.datetime(2009, 10, 31, 0, 0)"
      ]
     },
     "execution_count": 92,
     "metadata": {},
     "output_type": "execute_result"
    }
   ],
   "source": [
    "datetime.strptime('20091031', '%Y%m%d')"
   ]
  },
  {
   "cell_type": "code",
   "execution_count": null,
   "id": "dedicated-december",
   "metadata": {},
   "outputs": [],
   "source": []
  }
 ],
 "metadata": {
  "kernelspec": {
   "display_name": "Python 3",
   "language": "python",
   "name": "python3"
  },
  "language_info": {
   "codemirror_mode": {
    "name": "ipython",
    "version": 3
   },
   "file_extension": ".py",
   "mimetype": "text/x-python",
   "name": "python",
   "nbconvert_exporter": "python",
   "pygments_lexer": "ipython3",
   "version": "3.7.0"
  }
 },
 "nbformat": 4,
 "nbformat_minor": 5
}

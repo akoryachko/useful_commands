{
 "cells": [
  {
   "cell_type": "markdown",
   "id": "periodic-modern",
   "metadata": {},
   "source": [
    "## Type check"
   ]
  },
  {
   "cell_type": "code",
   "execution_count": 1,
   "id": "cardiac-preserve",
   "metadata": {},
   "outputs": [
    {
     "data": {
      "text/plain": [
       "int"
      ]
     },
     "execution_count": 1,
     "metadata": {},
     "output_type": "execute_result"
    }
   ],
   "source": [
    "a = 5\n",
    "type(a)"
   ]
  },
  {
   "cell_type": "code",
   "execution_count": 4,
   "id": "global-browse",
   "metadata": {},
   "outputs": [
    {
     "data": {
      "text/plain": [
       "False"
      ]
     },
     "execution_count": 4,
     "metadata": {},
     "output_type": "execute_result"
    }
   ],
   "source": [
    "isinstance(a, str)"
   ]
  },
  {
   "cell_type": "code",
   "execution_count": 5,
   "id": "civil-monday",
   "metadata": {},
   "outputs": [
    {
     "data": {
      "text/plain": [
       "True"
      ]
     },
     "execution_count": 5,
     "metadata": {},
     "output_type": "execute_result"
    }
   ],
   "source": [
    "isinstance(a, (str, int))"
   ]
  },
  {
   "cell_type": "markdown",
   "id": "selected-classification",
   "metadata": {},
   "source": [
    "## Numbers"
   ]
  },
  {
   "cell_type": "code",
   "execution_count": 30,
   "id": "serious-breathing",
   "metadata": {},
   "outputs": [],
   "source": [
    "a = 10; b = 3"
   ]
  },
  {
   "cell_type": "code",
   "execution_count": 34,
   "id": "minute-nickname",
   "metadata": {},
   "outputs": [
    {
     "data": {
      "text/plain": [
       "3.3333333333333335"
      ]
     },
     "execution_count": 34,
     "metadata": {},
     "output_type": "execute_result"
    }
   ],
   "source": [
    "a / b"
   ]
  },
  {
   "cell_type": "code",
   "execution_count": 31,
   "id": "sudden-husband",
   "metadata": {},
   "outputs": [
    {
     "data": {
      "text/plain": [
       "3"
      ]
     },
     "execution_count": 31,
     "metadata": {},
     "output_type": "execute_result"
    }
   ],
   "source": [
    "a // b # division with no reminder"
   ]
  },
  {
   "cell_type": "code",
   "execution_count": 32,
   "id": "continental-satellite",
   "metadata": {},
   "outputs": [
    {
     "data": {
      "text/plain": [
       "1"
      ]
     },
     "execution_count": 32,
     "metadata": {},
     "output_type": "execute_result"
    }
   ],
   "source": [
    "a % b # modulo devision"
   ]
  },
  {
   "cell_type": "code",
   "execution_count": 33,
   "id": "configured-question",
   "metadata": {},
   "outputs": [
    {
     "data": {
      "text/plain": [
       "1000"
      ]
     },
     "execution_count": 33,
     "metadata": {},
     "output_type": "execute_result"
    }
   ],
   "source": [
    "a ** b # power"
   ]
  },
  {
   "cell_type": "code",
   "execution_count": 37,
   "id": "surgical-animation",
   "metadata": {},
   "outputs": [
    {
     "data": {
      "text/plain": [
       "79.4"
      ]
     },
     "execution_count": 37,
     "metadata": {},
     "output_type": "execute_result"
    }
   ],
   "source": [
    "c = 7.94e-5\n",
    "c * 1e6"
   ]
  },
  {
   "cell_type": "markdown",
   "id": "eastern-roberts",
   "metadata": {},
   "source": [
    "## Strings"
   ]
  },
  {
   "cell_type": "code",
   "execution_count": 38,
   "id": "musical-strike",
   "metadata": {},
   "outputs": [],
   "source": [
    "s = 'this is a string'"
   ]
  },
  {
   "cell_type": "code",
   "execution_count": 39,
   "id": "global-texas",
   "metadata": {},
   "outputs": [
    {
     "data": {
      "text/plain": [
       "'this is a long string'"
      ]
     },
     "execution_count": 39,
     "metadata": {},
     "output_type": "execute_result"
    }
   ],
   "source": [
    "s.replace('string', 'long string')"
   ]
  },
  {
   "cell_type": "code",
   "execution_count": 81,
   "id": "lesbian-matthew",
   "metadata": {},
   "outputs": [
    {
     "data": {
      "text/plain": [
       "'str(a/b) result is: 3.3333333333333335'"
      ]
     },
     "execution_count": 81,
     "metadata": {},
     "output_type": "execute_result"
    }
   ],
   "source": [
    "('str(a/b) '\n",
    " 'result is: ' + str(a/b))"
   ]
  },
  {
   "cell_type": "markdown",
   "id": "million-georgia",
   "metadata": {},
   "source": [
    "### Template formating"
   ]
  },
  {
   "cell_type": "code",
   "execution_count": 68,
   "id": "twelve-split",
   "metadata": {},
   "outputs": [
    {
     "data": {
      "text/plain": [
       "'     4,155.5560 (4155.56)   Argentine Pesos    are worth US$3  '"
      ]
     },
     "execution_count": 68,
     "metadata": {},
     "output_type": "execute_result"
    }
   ],
   "source": [
    "cur = lambda: None\n",
    "cur.name = 'Argentine Pesos'\n",
    "cur.values = [1, 2, 3]\n",
    "\n",
    "template = '{0:>15,.4f} ({0:.2f}) {1.name:^20s} are worth US${1.values[2]:<3d}'\n",
    "template.format(4155.5560, cur)"
   ]
  },
  {
   "cell_type": "markdown",
   "id": "color-insulation",
   "metadata": {},
   "source": [
    "## Dates times"
   ]
  },
  {
   "cell_type": "code",
   "execution_count": 82,
   "id": "coordinate-laundry",
   "metadata": {},
   "outputs": [],
   "source": [
    " from datetime import datetime, date, time"
   ]
  },
  {
   "cell_type": "code",
   "execution_count": 84,
   "id": "isolated-battle",
   "metadata": {},
   "outputs": [],
   "source": [
    "dt = datetime.now()"
   ]
  },
  {
   "cell_type": "code",
   "execution_count": 89,
   "id": "suitable-costume",
   "metadata": {},
   "outputs": [
    {
     "data": {
      "text/plain": [
       "datetime.date(2021, 2, 13)"
      ]
     },
     "execution_count": 89,
     "metadata": {},
     "output_type": "execute_result"
    }
   ],
   "source": [
    "dt.date()"
   ]
  },
  {
   "cell_type": "markdown",
   "id": "useful-manual",
   "metadata": {},
   "source": [
    "### Format date time"
   ]
  },
  {
   "cell_type": "code",
   "execution_count": 91,
   "id": "shaped-saying",
   "metadata": {},
   "outputs": [
    {
     "data": {
      "text/plain": [
       "'02/13/2021 13:38'"
      ]
     },
     "execution_count": 91,
     "metadata": {},
     "output_type": "execute_result"
    }
   ],
   "source": [
    "dt.strftime('%m/%d/%Y %H:%M')"
   ]
  },
  {
   "cell_type": "markdown",
   "id": "welsh-amazon",
   "metadata": {},
   "source": [
    "### Convert to datetime"
   ]
  },
  {
   "cell_type": "code",
   "execution_count": 92,
   "id": "orange-safety",
   "metadata": {},
   "outputs": [
    {
     "data": {
      "text/plain": [
       "datetime.datetime(2009, 10, 31, 0, 0)"
      ]
     },
     "execution_count": 92,
     "metadata": {},
     "output_type": "execute_result"
    }
   ],
   "source": [
    "datetime.strptime('20091031', '%Y%m%d')"
   ]
  },
  {
   "cell_type": "code",
   "execution_count": null,
   "id": "novel-employment",
   "metadata": {},
   "outputs": [],
   "source": [
    "# %Y Four-digit year\n",
    "# %y Two-digit year\n",
    "# %m Two-digit month [01, 12]\n",
    "# %d Two-digit day [01, 31]\n",
    "# %H Hour (24-hour clock) [00, 23]\n",
    "# %I Hour (12-hour clock) [01, 12]\n",
    "# %M Two-digit minute [00, 59]\n",
    "# %S Second [00, 61] (seconds 60, 61 account for leap seconds)\n",
    "# %w Weekday as integer [0 (Sunday), 6]\n",
    "# %U Week number of the year [00, 53]; Sunday is considered the frst day of the week, and days before the frst Sunday of\n",
    "# the year are “week 0”\n",
    "# %W Week number of the year [00, 53]; Monday is considered the frst day of the week, and days before the frst Monday of\n",
    "# the year are “week 0”\n",
    "# %z UTC time zone oﬀset as +HHMM or -HHMM; empty if time zone naive\n",
    "# %F Shortcut for %Y-%m-%d (e.g., 2012-4-18)\n",
    "# %D Shortcut for %m/%d/%y (e.g., 04/18/12)"
   ]
  }
 ],
 "metadata": {
  "kernelspec": {
   "display_name": "Python 3",
   "language": "python",
   "name": "python3"
  },
  "language_info": {
   "codemirror_mode": {
    "name": "ipython",
    "version": 3
   },
   "file_extension": ".py",
   "mimetype": "text/x-python",
   "name": "python",
   "nbconvert_exporter": "python",
   "pygments_lexer": "ipython3",
   "version": "3.7.0"
  }
 },
 "nbformat": 4,
 "nbformat_minor": 5
}

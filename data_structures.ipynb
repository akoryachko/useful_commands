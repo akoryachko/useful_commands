{
 "cells": [
  {
   "cell_type": "markdown",
   "id": "leading-programmer",
   "metadata": {},
   "source": [
    "# Tuples"
   ]
  },
  {
   "cell_type": "code",
   "execution_count": 1,
   "id": "forward-auckland",
   "metadata": {},
   "outputs": [
    {
     "data": {
      "text/plain": [
       "(2, 3, 4)"
      ]
     },
     "execution_count": 1,
     "metadata": {},
     "output_type": "execute_result"
    }
   ],
   "source": [
    "tup = 2, 3, 4\n",
    "tup"
   ]
  },
  {
   "cell_type": "markdown",
   "id": "absent-depth",
   "metadata": {},
   "source": [
    "### Nested assignment"
   ]
  },
  {
   "cell_type": "code",
   "execution_count": 99,
   "id": "considerable-mambo",
   "metadata": {},
   "outputs": [
    {
     "name": "stdout",
     "output_type": "stream",
     "text": [
      "2 3 4 50 60\n"
     ]
    }
   ],
   "source": [
    "(d, e, f), g, h = (tup, 50, 60)\n",
    "print(d, e, f, g, h)"
   ]
  },
  {
   "cell_type": "markdown",
   "id": "guilty-worry",
   "metadata": {},
   "source": [
    "### Name swap"
   ]
  },
  {
   "cell_type": "code",
   "execution_count": 100,
   "id": "raised-chambers",
   "metadata": {},
   "outputs": [
    {
     "name": "stdout",
     "output_type": "stream",
     "text": [
      "2 3\n",
      "3 2\n"
     ]
    }
   ],
   "source": [
    "print(d, e)\n",
    "d, e = e, d\n",
    "print(d, e)"
   ]
  },
  {
   "cell_type": "markdown",
   "id": "peaceful-february",
   "metadata": {},
   "source": [
    "### Omitting values"
   ]
  },
  {
   "cell_type": "code",
   "execution_count": 101,
   "id": "undefined-battlefield",
   "metadata": {},
   "outputs": [
    {
     "name": "stdout",
     "output_type": "stream",
     "text": [
      "2 [3, 4]\n"
     ]
    }
   ],
   "source": [
    "q, *rest = tup\n",
    "print(q, rest)"
   ]
  },
  {
   "cell_type": "markdown",
   "id": "touched-sitting",
   "metadata": {},
   "source": [
    "# Lists"
   ]
  },
  {
   "cell_type": "code",
   "execution_count": 102,
   "id": "satisfactory-providence",
   "metadata": {},
   "outputs": [
    {
     "data": {
      "text/plain": [
       "[10, 6, 2, 3, 4]"
      ]
     },
     "execution_count": 102,
     "metadata": {},
     "output_type": "execute_result"
    }
   ],
   "source": [
    "l = list((10, 6) + tup)\n",
    "l"
   ]
  },
  {
   "cell_type": "code",
   "execution_count": 103,
   "id": "extraordinary-cooling",
   "metadata": {},
   "outputs": [
    {
     "data": {
      "text/plain": [
       "[6, 2, 3, 4]"
      ]
     },
     "execution_count": 103,
     "metadata": {},
     "output_type": "execute_result"
    }
   ],
   "source": [
    "l.remove(10)\n",
    "l"
   ]
  },
  {
   "cell_type": "code",
   "execution_count": 104,
   "id": "supreme-seeking",
   "metadata": {},
   "outputs": [
    {
     "data": {
      "text/plain": [
       "[6, 2, 3, 4, -10, 33]"
      ]
     },
     "execution_count": 104,
     "metadata": {},
     "output_type": "execute_result"
    }
   ],
   "source": [
    "l.extend([-10, 33])\n",
    "l"
   ]
  },
  {
   "cell_type": "markdown",
   "id": "communist-tractor",
   "metadata": {},
   "source": [
    "### Slicing"
   ]
  },
  {
   "cell_type": "code",
   "execution_count": 90,
   "id": "accomplished-council",
   "metadata": {},
   "outputs": [],
   "source": [
    "l = [33, 10, -10, 6, 4, 3, 2, True]"
   ]
  },
  {
   "cell_type": "code",
   "execution_count": 91,
   "id": "compatible-welsh",
   "metadata": {},
   "outputs": [
    {
     "data": {
      "text/plain": [
       "[True, 2, 3, 4, 6, -10, 10, 33]"
      ]
     },
     "execution_count": 91,
     "metadata": {},
     "output_type": "execute_result"
    }
   ],
   "source": [
    "l[::-1]"
   ]
  },
  {
   "cell_type": "code",
   "execution_count": 92,
   "id": "focused-possibility",
   "metadata": {},
   "outputs": [
    {
     "data": {
      "text/plain": [
       "[4, -10, 33]"
      ]
     },
     "execution_count": 92,
     "metadata": {},
     "output_type": "execute_result"
    }
   ],
   "source": [
    "l[-4::-2]"
   ]
  },
  {
   "cell_type": "markdown",
   "id": "adaptive-guide",
   "metadata": {},
   "source": [
    "### Sort"
   ]
  },
  {
   "cell_type": "code",
   "execution_count": 93,
   "id": "tribal-copper",
   "metadata": {},
   "outputs": [
    {
     "data": {
      "text/plain": [
       "[-10, True, 2, 3, 4, 6, 10, 33]"
      ]
     },
     "execution_count": 93,
     "metadata": {},
     "output_type": "execute_result"
    }
   ],
   "source": [
    "l.sort()\n",
    "l"
   ]
  },
  {
   "cell_type": "markdown",
   "id": "regular-amsterdam",
   "metadata": {},
   "source": [
    "### Sort by function"
   ]
  },
  {
   "cell_type": "code",
   "execution_count": 94,
   "id": "alike-kuwait",
   "metadata": {},
   "outputs": [
    {
     "data": {
      "text/plain": [
       "[True, 2, 3, 4, 6, -10, 10, 33]"
      ]
     },
     "execution_count": 94,
     "metadata": {},
     "output_type": "execute_result"
    }
   ],
   "source": [
    "l.sort(key=abs)\n",
    "l"
   ]
  },
  {
   "cell_type": "code",
   "execution_count": 95,
   "id": "marine-opera",
   "metadata": {},
   "outputs": [
    {
     "data": {
      "text/plain": [
       "[True, 2, 3, 4, 6, -10, 10, 33]"
      ]
     },
     "execution_count": 95,
     "metadata": {},
     "output_type": "execute_result"
    }
   ],
   "source": [
    "sorted(l, key=lambda x: x**2)"
   ]
  },
  {
   "cell_type": "code",
   "execution_count": 96,
   "id": "partial-share",
   "metadata": {},
   "outputs": [
    {
     "data": {
      "text/plain": [
       "[{'a': 3, 'b': 15}, {'a': 5, 'b': 10}]"
      ]
     },
     "execution_count": 96,
     "metadata": {},
     "output_type": "execute_result"
    }
   ],
   "source": [
    "sorted([{'a': 5, 'b':10}, {'a': 3, 'b':15}], key=lambda x: x['a'])"
   ]
  },
  {
   "cell_type": "code",
   "execution_count": null,
   "id": "seven-sight",
   "metadata": {},
   "outputs": [],
   "source": []
  }
 ],
 "metadata": {
  "kernelspec": {
   "display_name": "Python 3",
   "language": "python",
   "name": "python3"
  },
  "language_info": {
   "codemirror_mode": {
    "name": "ipython",
    "version": 3
   },
   "file_extension": ".py",
   "mimetype": "text/x-python",
   "name": "python",
   "nbconvert_exporter": "python",
   "pygments_lexer": "ipython3",
   "version": "3.7.0"
  }
 },
 "nbformat": 4,
 "nbformat_minor": 5
}

{
 "cells": [
  {
   "cell_type": "markdown",
   "id": "southeast-concern",
   "metadata": {},
   "source": [
    "# Tuples"
   ]
  },
  {
   "cell_type": "code",
   "execution_count": 1,
   "id": "grateful-league",
   "metadata": {},
   "outputs": [
    {
     "data": {
      "text/plain": [
       "(2, 3, 4)"
      ]
     },
     "execution_count": 1,
     "metadata": {},
     "output_type": "execute_result"
    }
   ],
   "source": [
    "tup = 2, 3, 4\n",
    "tup"
   ]
  },
  {
   "cell_type": "markdown",
   "id": "completed-tennis",
   "metadata": {},
   "source": [
    "### Nested assignment"
   ]
  },
  {
   "cell_type": "code",
   "execution_count": 99,
   "id": "least-bunch",
   "metadata": {},
   "outputs": [
    {
     "name": "stdout",
     "output_type": "stream",
     "text": [
      "2 3 4 50 60\n"
     ]
    }
   ],
   "source": [
    "(d, e, f), g, h = (tup, 50, 60)\n",
    "print(d, e, f, g, h)"
   ]
  },
  {
   "cell_type": "markdown",
   "id": "growing-threat",
   "metadata": {},
   "source": [
    "### Name swap"
   ]
  },
  {
   "cell_type": "code",
   "execution_count": 100,
   "id": "naughty-typing",
   "metadata": {},
   "outputs": [
    {
     "name": "stdout",
     "output_type": "stream",
     "text": [
      "2 3\n",
      "3 2\n"
     ]
    }
   ],
   "source": [
    "print(d, e)\n",
    "d, e = e, d\n",
    "print(d, e)"
   ]
  },
  {
   "cell_type": "markdown",
   "id": "recovered-chapter",
   "metadata": {},
   "source": [
    "### Omitting values"
   ]
  },
  {
   "cell_type": "code",
   "execution_count": 101,
   "id": "copyrighted-maryland",
   "metadata": {},
   "outputs": [
    {
     "name": "stdout",
     "output_type": "stream",
     "text": [
      "2 [3, 4]\n"
     ]
    }
   ],
   "source": [
    "q, *rest = tup\n",
    "print(q, rest)"
   ]
  },
  {
   "cell_type": "markdown",
   "id": "collected-cursor",
   "metadata": {},
   "source": [
    "# Lists"
   ]
  },
  {
   "cell_type": "code",
   "execution_count": 102,
   "id": "swedish-christmas",
   "metadata": {},
   "outputs": [
    {
     "data": {
      "text/plain": [
       "[10, 6, 2, 3, 4]"
      ]
     },
     "execution_count": 102,
     "metadata": {},
     "output_type": "execute_result"
    }
   ],
   "source": [
    "l = list((10, 6) + tup)\n",
    "l"
   ]
  },
  {
   "cell_type": "code",
   "execution_count": 103,
   "id": "forty-syracuse",
   "metadata": {},
   "outputs": [
    {
     "data": {
      "text/plain": [
       "[6, 2, 3, 4]"
      ]
     },
     "execution_count": 103,
     "metadata": {},
     "output_type": "execute_result"
    }
   ],
   "source": [
    "l.remove(10)\n",
    "l"
   ]
  },
  {
   "cell_type": "code",
   "execution_count": 104,
   "id": "formal-spelling",
   "metadata": {},
   "outputs": [
    {
     "data": {
      "text/plain": [
       "[6, 2, 3, 4, -10, 33]"
      ]
     },
     "execution_count": 104,
     "metadata": {},
     "output_type": "execute_result"
    }
   ],
   "source": [
    "l.extend([-10, 33])\n",
    "l"
   ]
  },
  {
   "cell_type": "markdown",
   "id": "ordered-quebec",
   "metadata": {},
   "source": [
    "### Slicing"
   ]
  },
  {
   "cell_type": "code",
   "execution_count": 90,
   "id": "coral-virus",
   "metadata": {},
   "outputs": [],
   "source": [
    "l = [33, 10, -10, 6, 4, 3, 2, True]"
   ]
  },
  {
   "cell_type": "code",
   "execution_count": 91,
   "id": "acoustic-mexican",
   "metadata": {},
   "outputs": [
    {
     "data": {
      "text/plain": [
       "[True, 2, 3, 4, 6, -10, 10, 33]"
      ]
     },
     "execution_count": 91,
     "metadata": {},
     "output_type": "execute_result"
    }
   ],
   "source": [
    "l[::-1]"
   ]
  },
  {
   "cell_type": "code",
   "execution_count": 92,
   "id": "informed-zoning",
   "metadata": {},
   "outputs": [
    {
     "data": {
      "text/plain": [
       "[4, -10, 33]"
      ]
     },
     "execution_count": 92,
     "metadata": {},
     "output_type": "execute_result"
    }
   ],
   "source": [
    "l[-4::-2]"
   ]
  },
  {
   "cell_type": "markdown",
   "id": "chemical-plate",
   "metadata": {},
   "source": [
    "### Sort"
   ]
  },
  {
   "cell_type": "code",
   "execution_count": 93,
   "id": "center-interaction",
   "metadata": {},
   "outputs": [
    {
     "data": {
      "text/plain": [
       "[-10, True, 2, 3, 4, 6, 10, 33]"
      ]
     },
     "execution_count": 93,
     "metadata": {},
     "output_type": "execute_result"
    }
   ],
   "source": [
    "l.sort()\n",
    "l"
   ]
  },
  {
   "cell_type": "markdown",
   "id": "light-novel",
   "metadata": {},
   "source": [
    "### Sort by function"
   ]
  },
  {
   "cell_type": "code",
   "execution_count": 94,
   "id": "touched-debut",
   "metadata": {},
   "outputs": [
    {
     "data": {
      "text/plain": [
       "[True, 2, 3, 4, 6, -10, 10, 33]"
      ]
     },
     "execution_count": 94,
     "metadata": {},
     "output_type": "execute_result"
    }
   ],
   "source": [
    "l.sort(key=abs)\n",
    "l"
   ]
  },
  {
   "cell_type": "code",
   "execution_count": 95,
   "id": "chemical-buying",
   "metadata": {},
   "outputs": [
    {
     "data": {
      "text/plain": [
       "[True, 2, 3, 4, 6, -10, 10, 33]"
      ]
     },
     "execution_count": 95,
     "metadata": {},
     "output_type": "execute_result"
    }
   ],
   "source": [
    "sorted(l, key=lambda x: x**2)"
   ]
  },
  {
   "cell_type": "code",
   "execution_count": 96,
   "id": "adjusted-content",
   "metadata": {},
   "outputs": [
    {
     "data": {
      "text/plain": [
       "[{'a': 3, 'b': 15}, {'a': 5, 'b': 10}]"
      ]
     },
     "execution_count": 96,
     "metadata": {},
     "output_type": "execute_result"
    }
   ],
   "source": [
    "sorted([{'a': 5, 'b':10}, {'a': 3, 'b':15}], key=lambda x: x['a'])"
   ]
  },
  {
   "cell_type": "markdown",
   "id": "informed-oxide",
   "metadata": {},
   "source": [
    "# Dictionaries"
   ]
  },
  {
   "cell_type": "code",
   "execution_count": 1,
   "id": "desperate-antarctica",
   "metadata": {},
   "outputs": [],
   "source": [
    "d1 = {'a' : 'some value', 'b' : [1, 2, 3, 4]}"
   ]
  },
  {
   "cell_type": "markdown",
   "id": "medical-motion",
   "metadata": {},
   "source": [
    "### check for keys"
   ]
  },
  {
   "cell_type": "code",
   "execution_count": 2,
   "id": "completed-framing",
   "metadata": {},
   "outputs": [
    {
     "data": {
      "text/plain": [
       "True"
      ]
     },
     "execution_count": 2,
     "metadata": {},
     "output_type": "execute_result"
    }
   ],
   "source": [
    "'a' in d1"
   ]
  },
  {
   "cell_type": "markdown",
   "id": "appointed-judge",
   "metadata": {},
   "source": [
    "### contents"
   ]
  },
  {
   "cell_type": "code",
   "execution_count": 13,
   "id": "resistant-respondent",
   "metadata": {},
   "outputs": [
    {
     "name": "stdout",
     "output_type": "stream",
     "text": [
      "['a', 'b', 'w', 3, (2, 3), 'pop']  vals:  dict_values(['some value', [1, 2, 3, 4], ('a', 'x'), {1, 'a', 'x'}, 'q', 2])\n"
     ]
    }
   ],
   "source": [
    "d1[3] = {1, 'a', 'x'}\n",
    "d1.update({(2,3): 'q', 'pop': 2})\n",
    "print(list(d1.keys()), ' vals: ', d1.values())"
   ]
  },
  {
   "cell_type": "markdown",
   "id": "turned-frank",
   "metadata": {},
   "source": [
    "### get values"
   ]
  },
  {
   "cell_type": "code",
   "execution_count": 17,
   "id": "conventional-behavior",
   "metadata": {},
   "outputs": [
    {
     "name": "stdout",
     "output_type": "stream",
     "text": [
      "{1, 'a', 'x'} None 0\n"
     ]
    }
   ],
   "source": [
    "print(d1[3], d1.get(4), d1.get(5, 0))"
   ]
  },
  {
   "cell_type": "markdown",
   "id": "electoral-hobby",
   "metadata": {},
   "source": [
    "### defaultdict"
   ]
  },
  {
   "cell_type": "code",
   "execution_count": 24,
   "id": "outer-distinction",
   "metadata": {},
   "outputs": [
    {
     "name": "stdout",
     "output_type": "stream",
     "text": [
      "0\n",
      "{0: 4, 1: 3, 2: 3, 'coala': 0}\n"
     ]
    }
   ],
   "source": [
    "from collections import defaultdict\n",
    "cnts = defaultdict(int)\n",
    "for n in range(10):\n",
    "    cnts[n % 3] += 1\n",
    "print(cnts['coala'])\n",
    "print(dict(cnts))"
   ]
  },
  {
   "cell_type": "markdown",
   "id": "israeli-senator",
   "metadata": {},
   "source": [
    "### iterate"
   ]
  },
  {
   "cell_type": "code",
   "execution_count": 29,
   "id": "stupid-borough",
   "metadata": {},
   "outputs": [
    {
     "name": "stdout",
     "output_type": "stream",
     "text": [
      "a <class 'str'>  ==  some value True\n",
      "b <class 'str'>  ==  [1, 2, 3, 4] False\n",
      "w <class 'str'>  ==  ('a', 'x') False\n",
      "3 <class 'int'>  ==  {1, 'a', 'x'} False\n",
      "(2, 3) <class 'tuple'>  ==  q True\n",
      "pop <class 'str'>  ==  2 True\n"
     ]
    }
   ],
   "source": [
    "for k, v in d1.items():\n",
    "    print(k, type(k), ' == ', v, isinstance(v, (int, str)))"
   ]
  },
  {
   "cell_type": "markdown",
   "id": "pacific-cache",
   "metadata": {},
   "source": [
    "# Set"
   ]
  },
  {
   "cell_type": "code",
   "execution_count": 40,
   "id": "electronic-transcript",
   "metadata": {},
   "outputs": [],
   "source": [
    "a = set(range(7))\n",
    "b = set(range(30, 1, -3))"
   ]
  },
  {
   "cell_type": "code",
   "execution_count": 44,
   "id": "organized-stroke",
   "metadata": {},
   "outputs": [
    {
     "data": {
      "text/plain": [
       "{0, 1, 2, 4, 5}"
      ]
     },
     "execution_count": 44,
     "metadata": {},
     "output_type": "execute_result"
    }
   ],
   "source": [
    "a - b"
   ]
  },
  {
   "cell_type": "code",
   "execution_count": 45,
   "id": "swedish-diagnosis",
   "metadata": {},
   "outputs": [
    {
     "data": {
      "text/plain": [
       "{3, 6}"
      ]
     },
     "execution_count": 45,
     "metadata": {},
     "output_type": "execute_result"
    }
   ],
   "source": [
    "a & b"
   ]
  },
  {
   "cell_type": "code",
   "execution_count": 47,
   "id": "republican-packet",
   "metadata": {},
   "outputs": [
    {
     "data": {
      "text/plain": [
       "{0, 1, 2, 4, 5, 9, 12, 15, 18, 21, 24, 27, 30}"
      ]
     },
     "execution_count": 47,
     "metadata": {},
     "output_type": "execute_result"
    }
   ],
   "source": [
    "a ^ b"
   ]
  },
  {
   "cell_type": "code",
   "execution_count": 48,
   "id": "loose-investment",
   "metadata": {},
   "outputs": [
    {
     "data": {
      "text/plain": [
       "True"
      ]
     },
     "execution_count": 48,
     "metadata": {},
     "output_type": "execute_result"
    }
   ],
   "source": [
    "((a & b) | (a ^ b)) == (a | b)"
   ]
  },
  {
   "cell_type": "code",
   "execution_count": 46,
   "id": "charming-draft",
   "metadata": {},
   "outputs": [
    {
     "data": {
      "text/plain": [
       "False"
      ]
     },
     "execution_count": 46,
     "metadata": {},
     "output_type": "execute_result"
    }
   ],
   "source": [
    "a.issubset(b)"
   ]
  },
  {
   "cell_type": "markdown",
   "id": "related-logistics",
   "metadata": {},
   "source": [
    "# Comprehensions"
   ]
  },
  {
   "cell_type": "code",
   "execution_count": 55,
   "id": "retained-saudi",
   "metadata": {},
   "outputs": [
    {
     "data": {
      "text/plain": [
       "{'black': 0, 'back': 1}"
      ]
     },
     "execution_count": 55,
     "metadata": {},
     "output_type": "execute_result"
    }
   ],
   "source": [
    "strings = ['black', 'back', 'bat']\n",
    "{value: key for key, value in enumerate(strings) if value.endswith('k')}"
   ]
  },
  {
   "cell_type": "markdown",
   "id": "parallel-timer",
   "metadata": {},
   "source": [
    "### nested loop"
   ]
  },
  {
   "cell_type": "code",
   "execution_count": 58,
   "id": "interesting-madonna",
   "metadata": {},
   "outputs": [
    {
     "data": {
      "text/plain": [
       "['Maria', 'Natalia']"
      ]
     },
     "execution_count": 58,
     "metadata": {},
     "output_type": "execute_result"
    }
   ],
   "source": [
    "all_data = [['John', 'Emily', 'Michael', 'Mary', 'Steven'],\n",
    "            ['Maria', 'Juan', 'Javier', 'Natalia', 'Pilar']]\n",
    "\n",
    "result = [name\n",
    "         for names in all_data\n",
    "         for name in names\n",
    "         if name.count('a') >= 2]\n",
    "\n",
    "result"
   ]
  },
  {
   "cell_type": "code",
   "execution_count": null,
   "id": "passing-wells",
   "metadata": {},
   "outputs": [],
   "source": []
  }
 ],
 "metadata": {
  "kernelspec": {
   "display_name": "Python 3",
   "language": "python",
   "name": "python3"
  },
  "language_info": {
   "codemirror_mode": {
    "name": "ipython",
    "version": 3
   },
   "file_extension": ".py",
   "mimetype": "text/x-python",
   "name": "python",
   "nbconvert_exporter": "python",
   "pygments_lexer": "ipython3",
   "version": "3.7.0"
  }
 },
 "nbformat": 4,
 "nbformat_minor": 5
}

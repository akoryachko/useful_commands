{
 "cells": [
  {
   "cell_type": "markdown",
   "id": "nominated-pharmacy",
   "metadata": {},
   "source": [
    "## Local/global"
   ]
  },
  {
   "cell_type": "code",
   "execution_count": 13,
   "id": "european-strength",
   "metadata": {},
   "outputs": [
    {
     "name": "stdout",
     "output_type": "stream",
     "text": [
      "[0, 1, 2, 3, 4]\n",
      "[4, 3, 2, 1, 0]\n"
     ]
    }
   ],
   "source": [
    "a = []\n",
    "def func():\n",
    "    global b\n",
    "    for n in range(5):\n",
    "        a.append(n)\n",
    "    b = a[::-1]\n",
    "\n",
    "func()\n",
    "print(a)\n",
    "print(b)"
   ]
  },
  {
   "cell_type": "markdown",
   "id": "collectible-dialogue",
   "metadata": {},
   "source": [
    "## Functions as objects"
   ]
  },
  {
   "cell_type": "code",
   "execution_count": 2,
   "id": "pretty-combat",
   "metadata": {},
   "outputs": [
    {
     "data": {
      "text/plain": [
       "['Alabama', 'Georgia', 'Georgia', 'Georgia', 'Florida']"
      ]
     },
     "execution_count": 2,
     "metadata": {},
     "output_type": "execute_result"
    }
   ],
   "source": [
    "strings = [' Alabama ', 'Georgia!', 'Georgia', 'georgia', 'FlOrIda']\n",
    "\n",
    "def remove_excl(s):\n",
    "    return s.replace('!', '')\n",
    "\n",
    "clean_ops = [str.strip, remove_excl, str.title]\n",
    "res = []\n",
    "for a in strings:\n",
    "    for op in clean_ops:\n",
    "        a = op(a)\n",
    "    res.append(a)\n",
    "res"
   ]
  },
  {
   "cell_type": "markdown",
   "id": "composed-frame",
   "metadata": {},
   "source": [
    "## Map\n",
    "apply function to all elements in a given sequence"
   ]
  },
  {
   "cell_type": "code",
   "execution_count": 5,
   "id": "julian-corruption",
   "metadata": {},
   "outputs": [
    {
     "data": {
      "text/plain": [
       "[' Alabama ', 'Georgia!', 'Georgia', 'Georgia', 'Florida']"
      ]
     },
     "execution_count": 5,
     "metadata": {},
     "output_type": "execute_result"
    }
   ],
   "source": [
    "list(map(str.title, strings))"
   ]
  },
  {
   "cell_type": "markdown",
   "id": "possible-deputy",
   "metadata": {},
   "source": [
    "## Lambda function"
   ]
  },
  {
   "cell_type": "code",
   "execution_count": 1,
   "id": "secret-daisy",
   "metadata": {},
   "outputs": [
    {
     "data": {
      "text/plain": [
       "16"
      ]
     },
     "execution_count": 1,
     "metadata": {},
     "output_type": "execute_result"
    }
   ],
   "source": [
    "f = lambda x: x**2\n",
    "f(4)"
   ]
  },
  {
   "cell_type": "markdown",
   "id": "radio-apparel",
   "metadata": {},
   "source": [
    "## itertools"
   ]
  },
  {
   "cell_type": "code",
   "execution_count": 16,
   "id": "peaceful-retreat",
   "metadata": {},
   "outputs": [
    {
     "name": "stdout",
     "output_type": "stream",
     "text": [
      "A ['Alan', 'Adam', 'Albert']\n",
      "S ['Steven']\n",
      "W ['Wes', 'Will']\n"
     ]
    }
   ],
   "source": [
    "import itertools\n",
    "names = ['Alan', 'Adam', 'Wes', 'Will', 'Albert', 'Steven']\n",
    "for letter, name in itertools.groupby(sorted(names, key=lambda x: x[0]), lambda x: x[0]):\n",
    "    print(letter, list(name))"
   ]
  },
  {
   "cell_type": "code",
   "execution_count": 25,
   "id": "postal-recruitment",
   "metadata": {},
   "outputs": [
    {
     "name": "stdout",
     "output_type": "stream",
     "text": [
      "['Alan', 'Adam']\n",
      "['Alan', 'Wes']\n",
      "['Adam', 'Wes']\n"
     ]
    }
   ],
   "source": [
    "for a in itertools.combinations(names[:3], 2):\n",
    "    print(list(a))"
   ]
  },
  {
   "cell_type": "code",
   "execution_count": null,
   "id": "split-interstate",
   "metadata": {},
   "outputs": [],
   "source": []
  }
 ],
 "metadata": {
  "kernelspec": {
   "display_name": "Python 3",
   "language": "python",
   "name": "python3"
  },
  "language_info": {
   "codemirror_mode": {
    "name": "ipython",
    "version": 3
   },
   "file_extension": ".py",
   "mimetype": "text/x-python",
   "name": "python",
   "nbconvert_exporter": "python",
   "pygments_lexer": "ipython3",
   "version": "3.7.0"
  }
 },
 "nbformat": 4,
 "nbformat_minor": 5
}

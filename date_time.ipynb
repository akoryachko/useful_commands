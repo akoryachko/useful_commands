{
 "cells": [
  {
   "cell_type": "code",
   "execution_count": 2,
   "id": "necessary-luther",
   "metadata": {},
   "outputs": [],
   "source": [
    "from datetime import datetime, timedelta"
   ]
  },
  {
   "cell_type": "code",
   "execution_count": 3,
   "id": "inner-establishment",
   "metadata": {},
   "outputs": [
    {
     "data": {
      "text/plain": [
       "datetime.datetime(2021, 3, 13, 19, 44, 7, 437329)"
      ]
     },
     "execution_count": 3,
     "metadata": {},
     "output_type": "execute_result"
    }
   ],
   "source": [
    "now = datetime.now()\n",
    "now"
   ]
  },
  {
   "cell_type": "code",
   "execution_count": 18,
   "id": "first-bridges",
   "metadata": {},
   "outputs": [
    {
     "data": {
      "text/plain": [
       "'2021-03(Mar/March)-13(Sat/Saturday) 19(07PM):44:07'"
      ]
     },
     "execution_count": 18,
     "metadata": {},
     "output_type": "execute_result"
    }
   ],
   "source": [
    "now.strftime('%Y-%m(%b/%B)-%d(%a/%A) %H(%I%p):%M:%S')"
   ]
  },
  {
   "cell_type": "code",
   "execution_count": 29,
   "id": "monthly-brisbane",
   "metadata": {},
   "outputs": [
    {
     "data": {
      "text/plain": [
       "'2021-02-26 14:43:04.437329'"
      ]
     },
     "execution_count": 29,
     "metadata": {},
     "output_type": "execute_result"
    }
   ],
   "source": [
    "yesterday = now - timedelta(weeks=2, days=1, hours=5, minutes=1, seconds=3)\n",
    "str(yesterday)"
   ]
  },
  {
   "cell_type": "code",
   "execution_count": 33,
   "id": "innocent-bones",
   "metadata": {},
   "outputs": [
    {
     "data": {
      "text/plain": [
       "datetime.datetime(2019, 9, 11, 0, 0)"
      ]
     },
     "execution_count": 33,
     "metadata": {},
     "output_type": "execute_result"
    }
   ],
   "source": [
    "ajbd = '9/11/2019'\n",
    "datetime.strptime(ajbd, '%m/%d/%Y')"
   ]
  },
  {
   "cell_type": "code",
   "execution_count": 34,
   "id": "finished-amber",
   "metadata": {},
   "outputs": [],
   "source": [
    "import pandas as pd"
   ]
  },
  {
   "cell_type": "code",
   "execution_count": 37,
   "id": "resident-apollo",
   "metadata": {},
   "outputs": [
    {
     "data": {
      "text/plain": [
       "Timestamp('1970-01-01 00:00:00')"
      ]
     },
     "execution_count": 37,
     "metadata": {},
     "output_type": "execute_result"
    }
   ],
   "source": [
    "pd.to_datetime(0, unit='ms')"
   ]
  },
  {
   "cell_type": "code",
   "execution_count": null,
   "id": "dedicated-release",
   "metadata": {},
   "outputs": [],
   "source": []
  }
 ],
 "metadata": {
  "kernelspec": {
   "display_name": "Python 3",
   "language": "python",
   "name": "python3"
  },
  "language_info": {
   "codemirror_mode": {
    "name": "ipython",
    "version": 3
   },
   "file_extension": ".py",
   "mimetype": "text/x-python",
   "name": "python",
   "nbconvert_exporter": "python",
   "pygments_lexer": "ipython3",
   "version": "3.7.0"
  }
 },
 "nbformat": 4,
 "nbformat_minor": 5
}
